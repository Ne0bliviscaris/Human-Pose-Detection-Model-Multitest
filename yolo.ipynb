{
 "cells": [
  {
   "cell_type": "code",
   "execution_count": 2,
   "metadata": {},
   "outputs": [],
   "source": [
    "from models.yolo11.yolo11 import process_image, process_video\n",
    "img = '1.jpg'\n",
    "vid = 'vid3_400.mp4'"
   ]
  },
  {
   "cell_type": "code",
   "execution_count": null,
   "metadata": {},
   "outputs": [],
   "source": [
    "img_result = process_image(img)"
   ]
  },
  {
   "cell_type": "code",
   "execution_count": null,
   "metadata": {},
   "outputs": [],
   "source": [
    "img_result[0].speed"
   ]
  },
  {
   "cell_type": "code",
   "execution_count": 4,
   "metadata": {},
   "outputs": [
    {
     "name": "stdout",
     "output_type": "stream",
     "text": [
      "\n",
      "video 1/1 (frame 1/105) c:\\Users\\Dragon\\Documents\\GitHub\\Sysmo\\Przymierzalnia multi model pipeline\\inputs\\vid3_400.mp4: 384x640 1 person, 124.9ms\n",
      "video 1/1 (frame 2/105) c:\\Users\\Dragon\\Documents\\GitHub\\Sysmo\\Przymierzalnia multi model pipeline\\inputs\\vid3_400.mp4: 384x640 1 person, 84.5ms\n",
      "video 1/1 (frame 3/105) c:\\Users\\Dragon\\Documents\\GitHub\\Sysmo\\Przymierzalnia multi model pipeline\\inputs\\vid3_400.mp4: 384x640 1 person, 81.0ms\n",
      "video 1/1 (frame 4/105) c:\\Users\\Dragon\\Documents\\GitHub\\Sysmo\\Przymierzalnia multi model pipeline\\inputs\\vid3_400.mp4: 384x640 1 person, 80.0ms\n",
      "video 1/1 (frame 5/105) c:\\Users\\Dragon\\Documents\\GitHub\\Sysmo\\Przymierzalnia multi model pipeline\\inputs\\vid3_400.mp4: 384x640 1 person, 82.3ms\n",
      "video 1/1 (frame 6/105) c:\\Users\\Dragon\\Documents\\GitHub\\Sysmo\\Przymierzalnia multi model pipeline\\inputs\\vid3_400.mp4: 384x640 1 person, 81.5ms\n",
      "video 1/1 (frame 7/105) c:\\Users\\Dragon\\Documents\\GitHub\\Sysmo\\Przymierzalnia multi model pipeline\\inputs\\vid3_400.mp4: 384x640 1 person, 80.0ms\n",
      "video 1/1 (frame 8/105) c:\\Users\\Dragon\\Documents\\GitHub\\Sysmo\\Przymierzalnia multi model pipeline\\inputs\\vid3_400.mp4: 384x640 1 person, 81.0ms\n",
      "video 1/1 (frame 9/105) c:\\Users\\Dragon\\Documents\\GitHub\\Sysmo\\Przymierzalnia multi model pipeline\\inputs\\vid3_400.mp4: 384x640 1 person, 82.9ms\n",
      "video 1/1 (frame 10/105) c:\\Users\\Dragon\\Documents\\GitHub\\Sysmo\\Przymierzalnia multi model pipeline\\inputs\\vid3_400.mp4: 384x640 1 person, 80.5ms\n",
      "video 1/1 (frame 11/105) c:\\Users\\Dragon\\Documents\\GitHub\\Sysmo\\Przymierzalnia multi model pipeline\\inputs\\vid3_400.mp4: 384x640 1 person, 83.4ms\n",
      "video 1/1 (frame 12/105) c:\\Users\\Dragon\\Documents\\GitHub\\Sysmo\\Przymierzalnia multi model pipeline\\inputs\\vid3_400.mp4: 384x640 1 person, 83.3ms\n",
      "video 1/1 (frame 13/105) c:\\Users\\Dragon\\Documents\\GitHub\\Sysmo\\Przymierzalnia multi model pipeline\\inputs\\vid3_400.mp4: 384x640 1 person, 87.7ms\n",
      "video 1/1 (frame 14/105) c:\\Users\\Dragon\\Documents\\GitHub\\Sysmo\\Przymierzalnia multi model pipeline\\inputs\\vid3_400.mp4: 384x640 1 person, 84.7ms\n",
      "video 1/1 (frame 15/105) c:\\Users\\Dragon\\Documents\\GitHub\\Sysmo\\Przymierzalnia multi model pipeline\\inputs\\vid3_400.mp4: 384x640 1 person, 82.0ms\n",
      "video 1/1 (frame 16/105) c:\\Users\\Dragon\\Documents\\GitHub\\Sysmo\\Przymierzalnia multi model pipeline\\inputs\\vid3_400.mp4: 384x640 1 person, 84.2ms\n",
      "video 1/1 (frame 17/105) c:\\Users\\Dragon\\Documents\\GitHub\\Sysmo\\Przymierzalnia multi model pipeline\\inputs\\vid3_400.mp4: 384x640 1 person, 84.9ms\n",
      "video 1/1 (frame 18/105) c:\\Users\\Dragon\\Documents\\GitHub\\Sysmo\\Przymierzalnia multi model pipeline\\inputs\\vid3_400.mp4: 384x640 1 person, 86.0ms\n",
      "video 1/1 (frame 19/105) c:\\Users\\Dragon\\Documents\\GitHub\\Sysmo\\Przymierzalnia multi model pipeline\\inputs\\vid3_400.mp4: 384x640 1 person, 89.0ms\n",
      "video 1/1 (frame 20/105) c:\\Users\\Dragon\\Documents\\GitHub\\Sysmo\\Przymierzalnia multi model pipeline\\inputs\\vid3_400.mp4: 384x640 1 person, 86.6ms\n",
      "video 1/1 (frame 21/105) c:\\Users\\Dragon\\Documents\\GitHub\\Sysmo\\Przymierzalnia multi model pipeline\\inputs\\vid3_400.mp4: 384x640 1 person, 83.3ms\n",
      "video 1/1 (frame 22/105) c:\\Users\\Dragon\\Documents\\GitHub\\Sysmo\\Przymierzalnia multi model pipeline\\inputs\\vid3_400.mp4: 384x640 1 person, 84.3ms\n",
      "video 1/1 (frame 23/105) c:\\Users\\Dragon\\Documents\\GitHub\\Sysmo\\Przymierzalnia multi model pipeline\\inputs\\vid3_400.mp4: 384x640 1 person, 84.0ms\n",
      "video 1/1 (frame 24/105) c:\\Users\\Dragon\\Documents\\GitHub\\Sysmo\\Przymierzalnia multi model pipeline\\inputs\\vid3_400.mp4: 384x640 1 person, 84.0ms\n",
      "video 1/1 (frame 25/105) c:\\Users\\Dragon\\Documents\\GitHub\\Sysmo\\Przymierzalnia multi model pipeline\\inputs\\vid3_400.mp4: 384x640 1 person, 83.9ms\n",
      "video 1/1 (frame 26/105) c:\\Users\\Dragon\\Documents\\GitHub\\Sysmo\\Przymierzalnia multi model pipeline\\inputs\\vid3_400.mp4: 384x640 1 person, 81.5ms\n",
      "video 1/1 (frame 27/105) c:\\Users\\Dragon\\Documents\\GitHub\\Sysmo\\Przymierzalnia multi model pipeline\\inputs\\vid3_400.mp4: 384x640 1 person, 84.3ms\n",
      "video 1/1 (frame 28/105) c:\\Users\\Dragon\\Documents\\GitHub\\Sysmo\\Przymierzalnia multi model pipeline\\inputs\\vid3_400.mp4: 384x640 1 person, 83.0ms\n",
      "video 1/1 (frame 29/105) c:\\Users\\Dragon\\Documents\\GitHub\\Sysmo\\Przymierzalnia multi model pipeline\\inputs\\vid3_400.mp4: 384x640 1 person, 84.0ms\n",
      "video 1/1 (frame 30/105) c:\\Users\\Dragon\\Documents\\GitHub\\Sysmo\\Przymierzalnia multi model pipeline\\inputs\\vid3_400.mp4: 384x640 1 person, 81.9ms\n",
      "video 1/1 (frame 31/105) c:\\Users\\Dragon\\Documents\\GitHub\\Sysmo\\Przymierzalnia multi model pipeline\\inputs\\vid3_400.mp4: 384x640 1 person, 83.5ms\n",
      "video 1/1 (frame 32/105) c:\\Users\\Dragon\\Documents\\GitHub\\Sysmo\\Przymierzalnia multi model pipeline\\inputs\\vid3_400.mp4: 384x640 1 person, 83.0ms\n",
      "video 1/1 (frame 33/105) c:\\Users\\Dragon\\Documents\\GitHub\\Sysmo\\Przymierzalnia multi model pipeline\\inputs\\vid3_400.mp4: 384x640 1 person, 81.9ms\n",
      "video 1/1 (frame 34/105) c:\\Users\\Dragon\\Documents\\GitHub\\Sysmo\\Przymierzalnia multi model pipeline\\inputs\\vid3_400.mp4: 384x640 1 person, 84.0ms\n",
      "video 1/1 (frame 35/105) c:\\Users\\Dragon\\Documents\\GitHub\\Sysmo\\Przymierzalnia multi model pipeline\\inputs\\vid3_400.mp4: 384x640 1 person, 85.9ms\n",
      "video 1/1 (frame 36/105) c:\\Users\\Dragon\\Documents\\GitHub\\Sysmo\\Przymierzalnia multi model pipeline\\inputs\\vid3_400.mp4: 384x640 1 person, 84.6ms\n",
      "video 1/1 (frame 37/105) c:\\Users\\Dragon\\Documents\\GitHub\\Sysmo\\Przymierzalnia multi model pipeline\\inputs\\vid3_400.mp4: 384x640 1 person, 81.4ms\n",
      "video 1/1 (frame 38/105) c:\\Users\\Dragon\\Documents\\GitHub\\Sysmo\\Przymierzalnia multi model pipeline\\inputs\\vid3_400.mp4: 384x640 1 person, 82.0ms\n",
      "video 1/1 (frame 39/105) c:\\Users\\Dragon\\Documents\\GitHub\\Sysmo\\Przymierzalnia multi model pipeline\\inputs\\vid3_400.mp4: 384x640 1 person, 81.2ms\n",
      "video 1/1 (frame 40/105) c:\\Users\\Dragon\\Documents\\GitHub\\Sysmo\\Przymierzalnia multi model pipeline\\inputs\\vid3_400.mp4: 384x640 1 person, 83.0ms\n",
      "video 1/1 (frame 41/105) c:\\Users\\Dragon\\Documents\\GitHub\\Sysmo\\Przymierzalnia multi model pipeline\\inputs\\vid3_400.mp4: 384x640 1 person, 82.1ms\n",
      "video 1/1 (frame 42/105) c:\\Users\\Dragon\\Documents\\GitHub\\Sysmo\\Przymierzalnia multi model pipeline\\inputs\\vid3_400.mp4: 384x640 1 person, 82.0ms\n",
      "video 1/1 (frame 43/105) c:\\Users\\Dragon\\Documents\\GitHub\\Sysmo\\Przymierzalnia multi model pipeline\\inputs\\vid3_400.mp4: 384x640 1 person, 81.0ms\n",
      "video 1/1 (frame 44/105) c:\\Users\\Dragon\\Documents\\GitHub\\Sysmo\\Przymierzalnia multi model pipeline\\inputs\\vid3_400.mp4: 384x640 1 person, 83.0ms\n",
      "video 1/1 (frame 45/105) c:\\Users\\Dragon\\Documents\\GitHub\\Sysmo\\Przymierzalnia multi model pipeline\\inputs\\vid3_400.mp4: 384x640 1 person, 82.0ms\n",
      "video 1/1 (frame 46/105) c:\\Users\\Dragon\\Documents\\GitHub\\Sysmo\\Przymierzalnia multi model pipeline\\inputs\\vid3_400.mp4: 384x640 1 person, 85.0ms\n",
      "video 1/1 (frame 47/105) c:\\Users\\Dragon\\Documents\\GitHub\\Sysmo\\Przymierzalnia multi model pipeline\\inputs\\vid3_400.mp4: 384x640 1 person, 83.3ms\n",
      "video 1/1 (frame 48/105) c:\\Users\\Dragon\\Documents\\GitHub\\Sysmo\\Przymierzalnia multi model pipeline\\inputs\\vid3_400.mp4: 384x640 1 person, 84.3ms\n",
      "video 1/1 (frame 49/105) c:\\Users\\Dragon\\Documents\\GitHub\\Sysmo\\Przymierzalnia multi model pipeline\\inputs\\vid3_400.mp4: 384x640 1 person, 84.0ms\n",
      "video 1/1 (frame 50/105) c:\\Users\\Dragon\\Documents\\GitHub\\Sysmo\\Przymierzalnia multi model pipeline\\inputs\\vid3_400.mp4: 384x640 1 person, 83.9ms\n",
      "video 1/1 (frame 51/105) c:\\Users\\Dragon\\Documents\\GitHub\\Sysmo\\Przymierzalnia multi model pipeline\\inputs\\vid3_400.mp4: 384x640 1 person, 83.2ms\n",
      "video 1/1 (frame 52/105) c:\\Users\\Dragon\\Documents\\GitHub\\Sysmo\\Przymierzalnia multi model pipeline\\inputs\\vid3_400.mp4: 384x640 1 person, 83.9ms\n",
      "video 1/1 (frame 53/105) c:\\Users\\Dragon\\Documents\\GitHub\\Sysmo\\Przymierzalnia multi model pipeline\\inputs\\vid3_400.mp4: 384x640 1 person, 81.0ms\n",
      "video 1/1 (frame 54/105) c:\\Users\\Dragon\\Documents\\GitHub\\Sysmo\\Przymierzalnia multi model pipeline\\inputs\\vid3_400.mp4: 384x640 1 person, 83.8ms\n",
      "video 1/1 (frame 55/105) c:\\Users\\Dragon\\Documents\\GitHub\\Sysmo\\Przymierzalnia multi model pipeline\\inputs\\vid3_400.mp4: 384x640 1 person, 98.0ms\n",
      "video 1/1 (frame 56/105) c:\\Users\\Dragon\\Documents\\GitHub\\Sysmo\\Przymierzalnia multi model pipeline\\inputs\\vid3_400.mp4: 384x640 1 person, 88.7ms\n",
      "video 1/1 (frame 57/105) c:\\Users\\Dragon\\Documents\\GitHub\\Sysmo\\Przymierzalnia multi model pipeline\\inputs\\vid3_400.mp4: 384x640 1 person, 86.1ms\n",
      "video 1/1 (frame 58/105) c:\\Users\\Dragon\\Documents\\GitHub\\Sysmo\\Przymierzalnia multi model pipeline\\inputs\\vid3_400.mp4: 384x640 1 person, 83.0ms\n",
      "video 1/1 (frame 59/105) c:\\Users\\Dragon\\Documents\\GitHub\\Sysmo\\Przymierzalnia multi model pipeline\\inputs\\vid3_400.mp4: 384x640 1 person, 83.0ms\n",
      "video 1/1 (frame 60/105) c:\\Users\\Dragon\\Documents\\GitHub\\Sysmo\\Przymierzalnia multi model pipeline\\inputs\\vid3_400.mp4: 384x640 1 person, 85.0ms\n",
      "video 1/1 (frame 61/105) c:\\Users\\Dragon\\Documents\\GitHub\\Sysmo\\Przymierzalnia multi model pipeline\\inputs\\vid3_400.mp4: 384x640 1 person, 85.1ms\n",
      "video 1/1 (frame 62/105) c:\\Users\\Dragon\\Documents\\GitHub\\Sysmo\\Przymierzalnia multi model pipeline\\inputs\\vid3_400.mp4: 384x640 1 person, 85.2ms\n",
      "video 1/1 (frame 63/105) c:\\Users\\Dragon\\Documents\\GitHub\\Sysmo\\Przymierzalnia multi model pipeline\\inputs\\vid3_400.mp4: 384x640 1 person, 84.0ms\n",
      "video 1/1 (frame 64/105) c:\\Users\\Dragon\\Documents\\GitHub\\Sysmo\\Przymierzalnia multi model pipeline\\inputs\\vid3_400.mp4: 384x640 1 person, 82.5ms\n",
      "video 1/1 (frame 65/105) c:\\Users\\Dragon\\Documents\\GitHub\\Sysmo\\Przymierzalnia multi model pipeline\\inputs\\vid3_400.mp4: 384x640 1 person, 81.9ms\n",
      "video 1/1 (frame 66/105) c:\\Users\\Dragon\\Documents\\GitHub\\Sysmo\\Przymierzalnia multi model pipeline\\inputs\\vid3_400.mp4: 384x640 1 person, 81.1ms\n",
      "video 1/1 (frame 67/105) c:\\Users\\Dragon\\Documents\\GitHub\\Sysmo\\Przymierzalnia multi model pipeline\\inputs\\vid3_400.mp4: 384x640 1 person, 81.3ms\n",
      "video 1/1 (frame 68/105) c:\\Users\\Dragon\\Documents\\GitHub\\Sysmo\\Przymierzalnia multi model pipeline\\inputs\\vid3_400.mp4: 384x640 1 person, 84.0ms\n",
      "video 1/1 (frame 69/105) c:\\Users\\Dragon\\Documents\\GitHub\\Sysmo\\Przymierzalnia multi model pipeline\\inputs\\vid3_400.mp4: 384x640 1 person, 81.1ms\n",
      "video 1/1 (frame 70/105) c:\\Users\\Dragon\\Documents\\GitHub\\Sysmo\\Przymierzalnia multi model pipeline\\inputs\\vid3_400.mp4: 384x640 1 person, 85.2ms\n",
      "video 1/1 (frame 71/105) c:\\Users\\Dragon\\Documents\\GitHub\\Sysmo\\Przymierzalnia multi model pipeline\\inputs\\vid3_400.mp4: 384x640 1 person, 81.3ms\n",
      "video 1/1 (frame 72/105) c:\\Users\\Dragon\\Documents\\GitHub\\Sysmo\\Przymierzalnia multi model pipeline\\inputs\\vid3_400.mp4: 384x640 1 person, 81.3ms\n",
      "video 1/1 (frame 73/105) c:\\Users\\Dragon\\Documents\\GitHub\\Sysmo\\Przymierzalnia multi model pipeline\\inputs\\vid3_400.mp4: 384x640 1 person, 80.9ms\n",
      "video 1/1 (frame 74/105) c:\\Users\\Dragon\\Documents\\GitHub\\Sysmo\\Przymierzalnia multi model pipeline\\inputs\\vid3_400.mp4: 384x640 1 person, 81.2ms\n",
      "video 1/1 (frame 75/105) c:\\Users\\Dragon\\Documents\\GitHub\\Sysmo\\Przymierzalnia multi model pipeline\\inputs\\vid3_400.mp4: 384x640 1 person, 81.1ms\n",
      "video 1/1 (frame 76/105) c:\\Users\\Dragon\\Documents\\GitHub\\Sysmo\\Przymierzalnia multi model pipeline\\inputs\\vid3_400.mp4: 384x640 1 person, 80.0ms\n",
      "video 1/1 (frame 77/105) c:\\Users\\Dragon\\Documents\\GitHub\\Sysmo\\Przymierzalnia multi model pipeline\\inputs\\vid3_400.mp4: 384x640 1 person, 79.9ms\n",
      "video 1/1 (frame 78/105) c:\\Users\\Dragon\\Documents\\GitHub\\Sysmo\\Przymierzalnia multi model pipeline\\inputs\\vid3_400.mp4: 384x640 1 person, 80.6ms\n",
      "video 1/1 (frame 79/105) c:\\Users\\Dragon\\Documents\\GitHub\\Sysmo\\Przymierzalnia multi model pipeline\\inputs\\vid3_400.mp4: 384x640 1 person, 83.9ms\n",
      "video 1/1 (frame 80/105) c:\\Users\\Dragon\\Documents\\GitHub\\Sysmo\\Przymierzalnia multi model pipeline\\inputs\\vid3_400.mp4: 384x640 1 person, 81.9ms\n",
      "video 1/1 (frame 81/105) c:\\Users\\Dragon\\Documents\\GitHub\\Sysmo\\Przymierzalnia multi model pipeline\\inputs\\vid3_400.mp4: 384x640 1 person, 81.1ms\n",
      "video 1/1 (frame 82/105) c:\\Users\\Dragon\\Documents\\GitHub\\Sysmo\\Przymierzalnia multi model pipeline\\inputs\\vid3_400.mp4: 384x640 1 person, 81.9ms\n",
      "video 1/1 (frame 83/105) c:\\Users\\Dragon\\Documents\\GitHub\\Sysmo\\Przymierzalnia multi model pipeline\\inputs\\vid3_400.mp4: 384x640 1 person, 85.7ms\n",
      "video 1/1 (frame 84/105) c:\\Users\\Dragon\\Documents\\GitHub\\Sysmo\\Przymierzalnia multi model pipeline\\inputs\\vid3_400.mp4: 384x640 1 person, 86.9ms\n",
      "video 1/1 (frame 85/105) c:\\Users\\Dragon\\Documents\\GitHub\\Sysmo\\Przymierzalnia multi model pipeline\\inputs\\vid3_400.mp4: 384x640 1 person, 84.1ms\n",
      "video 1/1 (frame 86/105) c:\\Users\\Dragon\\Documents\\GitHub\\Sysmo\\Przymierzalnia multi model pipeline\\inputs\\vid3_400.mp4: 384x640 1 person, 82.4ms\n",
      "video 1/1 (frame 87/105) c:\\Users\\Dragon\\Documents\\GitHub\\Sysmo\\Przymierzalnia multi model pipeline\\inputs\\vid3_400.mp4: 384x640 1 person, 83.0ms\n",
      "video 1/1 (frame 88/105) c:\\Users\\Dragon\\Documents\\GitHub\\Sysmo\\Przymierzalnia multi model pipeline\\inputs\\vid3_400.mp4: 384x640 1 person, 86.0ms\n",
      "video 1/1 (frame 89/105) c:\\Users\\Dragon\\Documents\\GitHub\\Sysmo\\Przymierzalnia multi model pipeline\\inputs\\vid3_400.mp4: 384x640 1 person, 81.8ms\n",
      "video 1/1 (frame 90/105) c:\\Users\\Dragon\\Documents\\GitHub\\Sysmo\\Przymierzalnia multi model pipeline\\inputs\\vid3_400.mp4: 384x640 1 person, 87.0ms\n",
      "video 1/1 (frame 91/105) c:\\Users\\Dragon\\Documents\\GitHub\\Sysmo\\Przymierzalnia multi model pipeline\\inputs\\vid3_400.mp4: 384x640 1 person, 84.6ms\n",
      "video 1/1 (frame 92/105) c:\\Users\\Dragon\\Documents\\GitHub\\Sysmo\\Przymierzalnia multi model pipeline\\inputs\\vid3_400.mp4: 384x640 1 person, 88.9ms\n",
      "video 1/1 (frame 93/105) c:\\Users\\Dragon\\Documents\\GitHub\\Sysmo\\Przymierzalnia multi model pipeline\\inputs\\vid3_400.mp4: 384x640 1 person, 98.1ms\n",
      "video 1/1 (frame 94/105) c:\\Users\\Dragon\\Documents\\GitHub\\Sysmo\\Przymierzalnia multi model pipeline\\inputs\\vid3_400.mp4: 384x640 1 person, 96.7ms\n",
      "video 1/1 (frame 95/105) c:\\Users\\Dragon\\Documents\\GitHub\\Sysmo\\Przymierzalnia multi model pipeline\\inputs\\vid3_400.mp4: 384x640 1 person, 90.3ms\n",
      "video 1/1 (frame 96/105) c:\\Users\\Dragon\\Documents\\GitHub\\Sysmo\\Przymierzalnia multi model pipeline\\inputs\\vid3_400.mp4: 384x640 1 person, 100.0ms\n",
      "video 1/1 (frame 97/105) c:\\Users\\Dragon\\Documents\\GitHub\\Sysmo\\Przymierzalnia multi model pipeline\\inputs\\vid3_400.mp4: 384x640 1 person, 94.0ms\n",
      "video 1/1 (frame 98/105) c:\\Users\\Dragon\\Documents\\GitHub\\Sysmo\\Przymierzalnia multi model pipeline\\inputs\\vid3_400.mp4: 384x640 1 person, 84.0ms\n",
      "video 1/1 (frame 99/105) c:\\Users\\Dragon\\Documents\\GitHub\\Sysmo\\Przymierzalnia multi model pipeline\\inputs\\vid3_400.mp4: 384x640 1 person, 85.6ms\n",
      "video 1/1 (frame 100/105) c:\\Users\\Dragon\\Documents\\GitHub\\Sysmo\\Przymierzalnia multi model pipeline\\inputs\\vid3_400.mp4: 384x640 1 person, 90.4ms\n",
      "video 1/1 (frame 101/105) c:\\Users\\Dragon\\Documents\\GitHub\\Sysmo\\Przymierzalnia multi model pipeline\\inputs\\vid3_400.mp4: 384x640 1 person, 85.6ms\n",
      "video 1/1 (frame 102/105) c:\\Users\\Dragon\\Documents\\GitHub\\Sysmo\\Przymierzalnia multi model pipeline\\inputs\\vid3_400.mp4: 384x640 1 person, 86.8ms\n",
      "video 1/1 (frame 103/105) c:\\Users\\Dragon\\Documents\\GitHub\\Sysmo\\Przymierzalnia multi model pipeline\\inputs\\vid3_400.mp4: 384x640 1 person, 87.1ms\n",
      "video 1/1 (frame 104/105) c:\\Users\\Dragon\\Documents\\GitHub\\Sysmo\\Przymierzalnia multi model pipeline\\inputs\\vid3_400.mp4: 384x640 1 person, 85.8ms\n",
      "video 1/1 (frame 105/105) c:\\Users\\Dragon\\Documents\\GitHub\\Sysmo\\Przymierzalnia multi model pipeline\\inputs\\vid3_400.mp4: 384x640 1 person, 88.3ms\n",
      "Speed: 1.7ms preprocess, 84.7ms inference, 1.1ms postprocess per image at shape (1, 3, 384, 640)\n"
     ]
    }
   ],
   "source": [
    "vid_result = process_video(vid)"
   ]
  }
 ],
 "metadata": {
  "kernelspec": {
   "display_name": "Python 3",
   "language": "python",
   "name": "python3"
  },
  "language_info": {
   "codemirror_mode": {
    "name": "ipython",
    "version": 3
   },
   "file_extension": ".py",
   "mimetype": "text/x-python",
   "name": "python",
   "nbconvert_exporter": "python",
   "pygments_lexer": "ipython3",
   "version": "3.12.6"
  }
 },
 "nbformat": 4,
 "nbformat_minor": 2
}
